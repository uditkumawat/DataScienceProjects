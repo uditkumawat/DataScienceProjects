{
 "cells": [
  {
   "cell_type": "code",
   "execution_count": 1,
   "metadata": {},
   "outputs": [],
   "source": [
    "import numpy as np\n",
    "import pandas as pd\n",
    "import matplotlib.pyplot as plt\n"
   ]
  },
  {
   "cell_type": "code",
   "execution_count": 3,
   "metadata": {},
   "outputs": [
    {
     "data": {
      "text/html": [
       "<div>\n",
       "<style scoped>\n",
       "    .dataframe tbody tr th:only-of-type {\n",
       "        vertical-align: middle;\n",
       "    }\n",
       "\n",
       "    .dataframe tbody tr th {\n",
       "        vertical-align: top;\n",
       "    }\n",
       "\n",
       "    .dataframe thead th {\n",
       "        text-align: right;\n",
       "    }\n",
       "</style>\n",
       "<table border=\"1\" class=\"dataframe\">\n",
       "  <thead>\n",
       "    <tr style=\"text-align: right;\">\n",
       "      <th></th>\n",
       "      <th>Pressure (millibars)</th>\n",
       "      <th>Humidity</th>\n",
       "    </tr>\n",
       "  </thead>\n",
       "  <tbody>\n",
       "    <tr>\n",
       "      <th>0</th>\n",
       "      <td>1014.40</td>\n",
       "      <td>0.62</td>\n",
       "    </tr>\n",
       "    <tr>\n",
       "      <th>1</th>\n",
       "      <td>1014.20</td>\n",
       "      <td>0.66</td>\n",
       "    </tr>\n",
       "    <tr>\n",
       "      <th>2</th>\n",
       "      <td>1014.47</td>\n",
       "      <td>0.79</td>\n",
       "    </tr>\n",
       "    <tr>\n",
       "      <th>3</th>\n",
       "      <td>1014.45</td>\n",
       "      <td>0.82</td>\n",
       "    </tr>\n",
       "    <tr>\n",
       "      <th>4</th>\n",
       "      <td>1014.49</td>\n",
       "      <td>0.83</td>\n",
       "    </tr>\n",
       "    <tr>\n",
       "      <th>5</th>\n",
       "      <td>1014.52</td>\n",
       "      <td>0.85</td>\n",
       "    </tr>\n",
       "    <tr>\n",
       "      <th>6</th>\n",
       "      <td>1014.16</td>\n",
       "      <td>0.83</td>\n",
       "    </tr>\n",
       "    <tr>\n",
       "      <th>7</th>\n",
       "      <td>1014.24</td>\n",
       "      <td>0.78</td>\n",
       "    </tr>\n",
       "    <tr>\n",
       "      <th>8</th>\n",
       "      <td>1014.25</td>\n",
       "      <td>0.72</td>\n",
       "    </tr>\n",
       "    <tr>\n",
       "      <th>9</th>\n",
       "      <td>1013.96</td>\n",
       "      <td>0.61</td>\n",
       "    </tr>\n",
       "    <tr>\n",
       "      <th>10</th>\n",
       "      <td>1013.85</td>\n",
       "      <td>0.52</td>\n",
       "    </tr>\n",
       "    <tr>\n",
       "      <th>11</th>\n",
       "      <td>1013.04</td>\n",
       "      <td>0.46</td>\n",
       "    </tr>\n",
       "    <tr>\n",
       "      <th>12</th>\n",
       "      <td>1012.22</td>\n",
       "      <td>0.40</td>\n",
       "    </tr>\n",
       "    <tr>\n",
       "      <th>13</th>\n",
       "      <td>1011.44</td>\n",
       "      <td>0.40</td>\n",
       "    </tr>\n",
       "    <tr>\n",
       "      <th>14</th>\n",
       "      <td>1010.52</td>\n",
       "      <td>0.37</td>\n",
       "    </tr>\n",
       "    <tr>\n",
       "      <th>15</th>\n",
       "      <td>1009.83</td>\n",
       "      <td>0.40</td>\n",
       "    </tr>\n",
       "    <tr>\n",
       "      <th>16</th>\n",
       "      <td>1009.26</td>\n",
       "      <td>0.36</td>\n",
       "    </tr>\n",
       "    <tr>\n",
       "      <th>17</th>\n",
       "      <td>1008.76</td>\n",
       "      <td>0.43</td>\n",
       "    </tr>\n",
       "    <tr>\n",
       "      <th>18</th>\n",
       "      <td>1008.36</td>\n",
       "      <td>0.50</td>\n",
       "    </tr>\n",
       "    <tr>\n",
       "      <th>19</th>\n",
       "      <td>1008.11</td>\n",
       "      <td>0.53</td>\n",
       "    </tr>\n",
       "    <tr>\n",
       "      <th>20</th>\n",
       "      <td>1008.15</td>\n",
       "      <td>0.55</td>\n",
       "    </tr>\n",
       "    <tr>\n",
       "      <th>21</th>\n",
       "      <td>1007.85</td>\n",
       "      <td>0.58</td>\n",
       "    </tr>\n",
       "    <tr>\n",
       "      <th>22</th>\n",
       "      <td>1007.89</td>\n",
       "      <td>0.59</td>\n",
       "    </tr>\n",
       "    <tr>\n",
       "      <th>23</th>\n",
       "      <td>1007.36</td>\n",
       "      <td>0.60</td>\n",
       "    </tr>\n",
       "    <tr>\n",
       "      <th>24</th>\n",
       "      <td>1007.26</td>\n",
       "      <td>0.63</td>\n",
       "    </tr>\n",
       "  </tbody>\n",
       "</table>\n",
       "</div>"
      ],
      "text/plain": [
       "    Pressure (millibars)  Humidity\n",
       "0                1014.40      0.62\n",
       "1                1014.20      0.66\n",
       "2                1014.47      0.79\n",
       "3                1014.45      0.82\n",
       "4                1014.49      0.83\n",
       "5                1014.52      0.85\n",
       "6                1014.16      0.83\n",
       "7                1014.24      0.78\n",
       "8                1014.25      0.72\n",
       "9                1013.96      0.61\n",
       "10               1013.85      0.52\n",
       "11               1013.04      0.46\n",
       "12               1012.22      0.40\n",
       "13               1011.44      0.40\n",
       "14               1010.52      0.37\n",
       "15               1009.83      0.40\n",
       "16               1009.26      0.36\n",
       "17               1008.76      0.43\n",
       "18               1008.36      0.50\n",
       "19               1008.11      0.53\n",
       "20               1008.15      0.55\n",
       "21               1007.85      0.58\n",
       "22               1007.89      0.59\n",
       "23               1007.36      0.60\n",
       "24               1007.26      0.63"
      ]
     },
     "execution_count": 3,
     "metadata": {},
     "output_type": "execute_result"
    }
   ],
   "source": [
    "weather_data = pd.read_csv(\"weatherDataP.csv\")\n",
    "weather_data"
   ]
  },
  {
   "cell_type": "code",
   "execution_count": 5,
   "metadata": {},
   "outputs": [
    {
     "data": {
      "text/plain": [
       "Text(0, 0.5, 'Humidity')"
      ]
     },
     "execution_count": 5,
     "metadata": {},
     "output_type": "execute_result"
    },
    {
     "data": {
      "image/png": "[encoded data removed]",
      "text/plain": [
       "<Figure size 432x288 with 1 Axes>"
      ]
     },
     "metadata": {
      "needs_background": "light"
     },
     "output_type": "display_data"
    }
   ],
   "source": [
    "# Set our input x to Pressure, use [[]] to convert to 2D array suitable for model input\n",
    "X = weather_data[[\"Pressure (millibars)\"]]\n",
    "y = weather_data.Humidity\n",
    "# Produce a scatter graph of Humidity against Pressure\n",
    "plt.scatter(X, y, c = \"black\")\n",
    "plt.xlabel(\"Pressure (millibars)\")\n",
    "plt.ylabel(\"Humidity\")"
   ]
  },
  {
   "cell_type": "code",
   "execution_count": 6,
   "metadata": {},
   "outputs": [],
   "source": [
    "from sklearn.preprocessing import PolynomialFeatures\n",
    "from sklearn.linear_model import LinearRegression"
   ]
  },
  {
   "cell_type": "code",
   "execution_count": 7,
   "metadata": {},
   "outputs": [],
   "source": [
    "# Set PolynomialFeatures to degree 2 and store in the variable pre_process\n",
    "# Degree 2 preprocesses x to 1, x and x^2\n",
    "# Degree 3 preprocesses x to 1, x, x^2 and x^3\n",
    "# and so on..\n",
    " \n",
    "pre_process = PolynomialFeatures(degree=2)\n"
   ]
  },
  {
   "cell_type": "code",
   "execution_count": 8,
   "metadata": {},
   "outputs": [
    {
     "data": {
      "text/plain": [
       "array([[1.00000000e+00, 1.01440000e+03, 1.02900736e+06],\n",
       "       [1.00000000e+00, 1.01420000e+03, 1.02860164e+06],\n",
       "       [1.00000000e+00, 1.01447000e+03, 1.02914938e+06],\n",
       "       [1.00000000e+00, 1.01445000e+03, 1.02910880e+06],\n",
       "       [1.00000000e+00, 1.01449000e+03, 1.02918996e+06],\n",
       "       [1.00000000e+00, 1.01452000e+03, 1.02925083e+06],\n",
       "       [1.00000000e+00, 1.01416000e+03, 1.02852051e+06],\n",
       "       [1.00000000e+00, 1.01424000e+03, 1.02868278e+06],\n",
       "       [1.00000000e+00, 1.01425000e+03, 1.02870306e+06],\n",
       "       [1.00000000e+00, 1.01396000e+03, 1.02811488e+06],\n",
       "       [1.00000000e+00, 1.01385000e+03, 1.02789182e+06],\n",
       "       [1.00000000e+00, 1.01304000e+03, 1.02625004e+06],\n",
       "       [1.00000000e+00, 1.01222000e+03, 1.02458933e+06],\n",
       "       [1.00000000e+00, 1.01144000e+03, 1.02301087e+06],\n",
       "       [1.00000000e+00, 1.01052000e+03, 1.02115067e+06],\n",
       "       [1.00000000e+00, 1.00983000e+03, 1.01975663e+06],\n",
       "       [1.00000000e+00, 1.00926000e+03, 1.01860575e+06],\n",
       "       [1.00000000e+00, 1.00876000e+03, 1.01759674e+06],\n",
       "       [1.00000000e+00, 1.00836000e+03, 1.01678989e+06],\n",
       "       [1.00000000e+00, 1.00811000e+03, 1.01628577e+06],\n",
       "       [1.00000000e+00, 1.00815000e+03, 1.01636642e+06],\n",
       "       [1.00000000e+00, 1.00785000e+03, 1.01576162e+06],\n",
       "       [1.00000000e+00, 1.00789000e+03, 1.01584225e+06],\n",
       "       [1.00000000e+00, 1.00736000e+03, 1.01477417e+06],\n",
       "       [1.00000000e+00, 1.00726000e+03, 1.01457271e+06]])"
      ]
     },
     "execution_count": 8,
     "metadata": {},
     "output_type": "execute_result"
    }
   ],
   "source": [
    "# Transform our x input to 1, x and x^2\n",
    "X_poly = pre_process.fit_transform(X)\n",
    "# Show the transformation on the notebook\n",
    "X_poly"
   ]
  },
  {
   "cell_type": "code",
   "execution_count": 10,
   "metadata": {},
   "outputs": [
    {
     "data": {
      "text/plain": [
       "LinearRegression(copy_X=True, fit_intercept=True, n_jobs=None,\n",
       "         normalize=False)"
      ]
     },
     "execution_count": 10,
     "metadata": {},
     "output_type": "execute_result"
    }
   ],
   "source": [
    "linear_model = LinearRegression()\n",
    "linear_model.fit(X_poly,y)"
   ]
  },
  {
   "cell_type": "code",
   "execution_count": 12,
   "metadata": {},
   "outputs": [
    {
     "data": {
      "text/plain": [
       "[<matplotlib.lines.Line2D at 0x1a1e8613c8>]"
      ]
     },
     "execution_count": 12,
     "metadata": {},
     "output_type": "execute_result"
    },
    {
     "data": {
      "image/png": "[encoded data removed]",
      "text/plain": [
       "<Figure size 432x288 with 1 Axes>"
      ]
     },
     "metadata": {
      "needs_background": "light"
     },
     "output_type": "display_data"
    }
   ],
   "source": [
    "# Store our predicted Humidity values in the variable y_new\n",
    "y_pred = linear_model.predict(X_poly)\n",
    "# Plot our model on our data\n",
    "plt.scatter(X, y, c = \"black\")\n",
    "plt.xlabel(\"Pressure (millibars)\")\n",
    "plt.ylabel(\"Humidity\")\n",
    "plt.plot(X, y_pred)"
   ]
  },
  {
   "cell_type": "code",
   "execution_count": 13,
   "metadata": {},
   "outputs": [
    {
     "data": {
      "text/plain": [
       "array([ 0.00000000e+00, -5.77225454e+01,  2.85583573e-02])"
      ]
     },
     "execution_count": 13,
     "metadata": {},
     "output_type": "execute_result"
    }
   ],
   "source": [
    "linear_model.coef_"
   ]
  },
  {
   "cell_type": "code",
   "execution_count": 14,
   "metadata": {},
   "outputs": [
    {
     "data": {
      "text/plain": [
       "29167.74604378328"
      ]
     },
     "execution_count": 14,
     "metadata": {},
     "output_type": "execute_result"
    }
   ],
   "source": [
    "linear_model.intercept_"
   ]
  },
  {
   "cell_type": "code",
   "execution_count": null,
   "metadata": {},
   "outputs": [],
   "source": []
  }
 ],
 "metadata": {
  "kernelspec": {
   "display_name": "Python 3",
   "language": "python",
   "name": "python3"
  },
  "language_info": {
   "codemirror_mode": {
    "name": "ipython",
    "version": 3
   },
   "file_extension": ".py",
   "mimetype": "text/x-python",
   "name": "python",
   "nbconvert_exporter": "python",
   "pygments_lexer": "ipython3",
   "version": "3.7.3"
  }
 },
 "nbformat": 4,
 "nbformat_minor": 2
}
